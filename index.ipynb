{
 "cells": [
  {
   "cell_type": "markdown",
   "metadata": {},
   "source": [
    "# Midterm Project\n",
    "\n",
    "For the midterm project you'll get to practice the data science process by trying out a regression problem! You'll then get to compare your model performance to other peers' work on the same dataset as well as work on several other datasets. This will allow you to see new ideas on the same problem as well as nuances of the same technique across different datasets. "
   ]
  },
  {
   "cell_type": "markdown",
   "metadata": {},
   "source": [
    "# Datasets\n",
    "\n",
    "You will take one of the following datasets and apply a standard data science process of exploratory analysis, cleaning and machine learning. This process will be outlined in several large stages. To start, take your dataset, import the data and begin doing some initial exploratory analysis using the tools and techniques we have covered thus far. You will find all three datasets under a folder titled 'Datasets'.\n",
    "\n",
    "\n",
    "* Walmart Sales Forecasting\n",
    "* Estimating NYC Cab Trip Duration\n",
    "* Lego Sets (previously seen)"
   ]
  },
  {
   "cell_type": "markdown",
   "metadata": {},
   "source": [
    "## Project Outline\n",
    "* Load Data\n",
    "* Exploratory Analysis\n",
    "* Initial Model\n",
    "* Evaluation\n",
    "* Feature Engineering\n",
    "* Model 2\n",
    "* Evaluation\n",
    "* Further Investigation/Exploration"
   ]
  },
  {
   "cell_type": "code",
   "execution_count": 84,
   "metadata": {},
   "outputs": [],
   "source": [
    "#import all the stuff you need to make charts, graphs etc."
   ]
  },
  {
   "cell_type": "markdown",
   "metadata": {},
   "source": [
    "# Load the Data"
   ]
  },
  {
   "cell_type": "code",
   "execution_count": 85,
   "metadata": {},
   "outputs": [],
   "source": [
    "import pandas as pd\n",
    "import plotnine\n",
    "from plotnine import *\n",
    "import seaborn as sns\n",
    "import matplotlib.pyplot as plt\n",
    "% matplotlib inline\n",
    "import numpy as np"
   ]
  },
  {
   "cell_type": "code",
   "execution_count": 86,
   "metadata": {},
   "outputs": [],
   "source": [
    "#load weekly sales forcasting and features ....see  below"
   ]
  },
  {
   "cell_type": "code",
   "execution_count": 87,
   "metadata": {},
   "outputs": [
    {
     "name": "stdout",
     "output_type": "stream",
     "text": [
      "421570\n"
     ]
    },
    {
     "data": {
      "text/html": [
       "<div>\n",
       "<style scoped>\n",
       "    .dataframe tbody tr th:only-of-type {\n",
       "        vertical-align: middle;\n",
       "    }\n",
       "\n",
       "    .dataframe tbody tr th {\n",
       "        vertical-align: top;\n",
       "    }\n",
       "\n",
       "    .dataframe thead th {\n",
       "        text-align: right;\n",
       "    }\n",
       "</style>\n",
       "<table border=\"1\" class=\"dataframe\">\n",
       "  <thead>\n",
       "    <tr style=\"text-align: right;\">\n",
       "      <th></th>\n",
       "      <th>Store</th>\n",
       "      <th>Dept</th>\n",
       "      <th>Date</th>\n",
       "      <th>Weekly_Sales</th>\n",
       "      <th>IsHoliday</th>\n",
       "    </tr>\n",
       "  </thead>\n",
       "  <tbody>\n",
       "    <tr>\n",
       "      <th>0</th>\n",
       "      <td>1</td>\n",
       "      <td>1</td>\n",
       "      <td>2010-02-05</td>\n",
       "      <td>24924.50</td>\n",
       "      <td>False</td>\n",
       "    </tr>\n",
       "    <tr>\n",
       "      <th>1</th>\n",
       "      <td>1</td>\n",
       "      <td>1</td>\n",
       "      <td>2010-02-12</td>\n",
       "      <td>46039.49</td>\n",
       "      <td>True</td>\n",
       "    </tr>\n",
       "    <tr>\n",
       "      <th>2</th>\n",
       "      <td>1</td>\n",
       "      <td>1</td>\n",
       "      <td>2010-02-19</td>\n",
       "      <td>41595.55</td>\n",
       "      <td>False</td>\n",
       "    </tr>\n",
       "    <tr>\n",
       "      <th>3</th>\n",
       "      <td>1</td>\n",
       "      <td>1</td>\n",
       "      <td>2010-02-26</td>\n",
       "      <td>19403.54</td>\n",
       "      <td>False</td>\n",
       "    </tr>\n",
       "    <tr>\n",
       "      <th>4</th>\n",
       "      <td>1</td>\n",
       "      <td>1</td>\n",
       "      <td>2010-03-05</td>\n",
       "      <td>21827.90</td>\n",
       "      <td>False</td>\n",
       "    </tr>\n",
       "    <tr>\n",
       "      <th>5</th>\n",
       "      <td>1</td>\n",
       "      <td>1</td>\n",
       "      <td>2010-03-12</td>\n",
       "      <td>21043.39</td>\n",
       "      <td>False</td>\n",
       "    </tr>\n",
       "    <tr>\n",
       "      <th>6</th>\n",
       "      <td>1</td>\n",
       "      <td>1</td>\n",
       "      <td>2010-03-19</td>\n",
       "      <td>22136.64</td>\n",
       "      <td>False</td>\n",
       "    </tr>\n",
       "    <tr>\n",
       "      <th>7</th>\n",
       "      <td>1</td>\n",
       "      <td>1</td>\n",
       "      <td>2010-03-26</td>\n",
       "      <td>26229.21</td>\n",
       "      <td>False</td>\n",
       "    </tr>\n",
       "    <tr>\n",
       "      <th>8</th>\n",
       "      <td>1</td>\n",
       "      <td>1</td>\n",
       "      <td>2010-04-02</td>\n",
       "      <td>57258.43</td>\n",
       "      <td>False</td>\n",
       "    </tr>\n",
       "    <tr>\n",
       "      <th>9</th>\n",
       "      <td>1</td>\n",
       "      <td>1</td>\n",
       "      <td>2010-04-09</td>\n",
       "      <td>42960.91</td>\n",
       "      <td>False</td>\n",
       "    </tr>\n",
       "  </tbody>\n",
       "</table>\n",
       "</div>"
      ],
      "text/plain": [
       "   Store  Dept        Date  Weekly_Sales  IsHoliday\n",
       "0      1     1  2010-02-05      24924.50      False\n",
       "1      1     1  2010-02-12      46039.49       True\n",
       "2      1     1  2010-02-19      41595.55      False\n",
       "3      1     1  2010-02-26      19403.54      False\n",
       "4      1     1  2010-03-05      21827.90      False\n",
       "5      1     1  2010-03-12      21043.39      False\n",
       "6      1     1  2010-03-19      22136.64      False\n",
       "7      1     1  2010-03-26      26229.21      False\n",
       "8      1     1  2010-04-02      57258.43      False\n",
       "9      1     1  2010-04-09      42960.91      False"
      ]
     },
     "execution_count": 87,
     "metadata": {},
     "output_type": "execute_result"
    }
   ],
   "source": [
    "df = pd.read_csv('./Datasets/Walmart_Sales_Forecasting.csv')\n",
    "print(len(df))\n",
    "df.head(10)\n",
    "                        "
   ]
  },
  {
   "cell_type": "code",
   "execution_count": 88,
   "metadata": {},
   "outputs": [
    {
     "name": "stdout",
     "output_type": "stream",
     "text": [
      "8190\n"
     ]
    },
    {
     "data": {
      "text/html": [
       "<div>\n",
       "<style scoped>\n",
       "    .dataframe tbody tr th:only-of-type {\n",
       "        vertical-align: middle;\n",
       "    }\n",
       "\n",
       "    .dataframe tbody tr th {\n",
       "        vertical-align: top;\n",
       "    }\n",
       "\n",
       "    .dataframe thead th {\n",
       "        text-align: right;\n",
       "    }\n",
       "</style>\n",
       "<table border=\"1\" class=\"dataframe\">\n",
       "  <thead>\n",
       "    <tr style=\"text-align: right;\">\n",
       "      <th></th>\n",
       "      <th>Store</th>\n",
       "      <th>Date</th>\n",
       "      <th>Temperature</th>\n",
       "      <th>Fuel_Price</th>\n",
       "      <th>MarkDown1</th>\n",
       "      <th>MarkDown2</th>\n",
       "      <th>MarkDown3</th>\n",
       "      <th>MarkDown4</th>\n",
       "      <th>MarkDown5</th>\n",
       "      <th>CPI</th>\n",
       "      <th>Unemployment</th>\n",
       "      <th>IsHoliday</th>\n",
       "    </tr>\n",
       "  </thead>\n",
       "  <tbody>\n",
       "    <tr>\n",
       "      <th>0</th>\n",
       "      <td>1</td>\n",
       "      <td>2010-02-05</td>\n",
       "      <td>42.31</td>\n",
       "      <td>2.572</td>\n",
       "      <td>NaN</td>\n",
       "      <td>NaN</td>\n",
       "      <td>NaN</td>\n",
       "      <td>NaN</td>\n",
       "      <td>NaN</td>\n",
       "      <td>211.096358</td>\n",
       "      <td>8.106</td>\n",
       "      <td>False</td>\n",
       "    </tr>\n",
       "    <tr>\n",
       "      <th>1</th>\n",
       "      <td>1</td>\n",
       "      <td>2010-02-12</td>\n",
       "      <td>38.51</td>\n",
       "      <td>2.548</td>\n",
       "      <td>NaN</td>\n",
       "      <td>NaN</td>\n",
       "      <td>NaN</td>\n",
       "      <td>NaN</td>\n",
       "      <td>NaN</td>\n",
       "      <td>211.242170</td>\n",
       "      <td>8.106</td>\n",
       "      <td>True</td>\n",
       "    </tr>\n",
       "    <tr>\n",
       "      <th>2</th>\n",
       "      <td>1</td>\n",
       "      <td>2010-02-19</td>\n",
       "      <td>39.93</td>\n",
       "      <td>2.514</td>\n",
       "      <td>NaN</td>\n",
       "      <td>NaN</td>\n",
       "      <td>NaN</td>\n",
       "      <td>NaN</td>\n",
       "      <td>NaN</td>\n",
       "      <td>211.289143</td>\n",
       "      <td>8.106</td>\n",
       "      <td>False</td>\n",
       "    </tr>\n",
       "    <tr>\n",
       "      <th>3</th>\n",
       "      <td>1</td>\n",
       "      <td>2010-02-26</td>\n",
       "      <td>46.63</td>\n",
       "      <td>2.561</td>\n",
       "      <td>NaN</td>\n",
       "      <td>NaN</td>\n",
       "      <td>NaN</td>\n",
       "      <td>NaN</td>\n",
       "      <td>NaN</td>\n",
       "      <td>211.319643</td>\n",
       "      <td>8.106</td>\n",
       "      <td>False</td>\n",
       "    </tr>\n",
       "    <tr>\n",
       "      <th>4</th>\n",
       "      <td>1</td>\n",
       "      <td>2010-03-05</td>\n",
       "      <td>46.50</td>\n",
       "      <td>2.625</td>\n",
       "      <td>NaN</td>\n",
       "      <td>NaN</td>\n",
       "      <td>NaN</td>\n",
       "      <td>NaN</td>\n",
       "      <td>NaN</td>\n",
       "      <td>211.350143</td>\n",
       "      <td>8.106</td>\n",
       "      <td>False</td>\n",
       "    </tr>\n",
       "    <tr>\n",
       "      <th>5</th>\n",
       "      <td>1</td>\n",
       "      <td>2010-03-12</td>\n",
       "      <td>57.79</td>\n",
       "      <td>2.667</td>\n",
       "      <td>NaN</td>\n",
       "      <td>NaN</td>\n",
       "      <td>NaN</td>\n",
       "      <td>NaN</td>\n",
       "      <td>NaN</td>\n",
       "      <td>211.380643</td>\n",
       "      <td>8.106</td>\n",
       "      <td>False</td>\n",
       "    </tr>\n",
       "    <tr>\n",
       "      <th>6</th>\n",
       "      <td>1</td>\n",
       "      <td>2010-03-19</td>\n",
       "      <td>54.58</td>\n",
       "      <td>2.720</td>\n",
       "      <td>NaN</td>\n",
       "      <td>NaN</td>\n",
       "      <td>NaN</td>\n",
       "      <td>NaN</td>\n",
       "      <td>NaN</td>\n",
       "      <td>211.215635</td>\n",
       "      <td>8.106</td>\n",
       "      <td>False</td>\n",
       "    </tr>\n",
       "    <tr>\n",
       "      <th>7</th>\n",
       "      <td>1</td>\n",
       "      <td>2010-03-26</td>\n",
       "      <td>51.45</td>\n",
       "      <td>2.732</td>\n",
       "      <td>NaN</td>\n",
       "      <td>NaN</td>\n",
       "      <td>NaN</td>\n",
       "      <td>NaN</td>\n",
       "      <td>NaN</td>\n",
       "      <td>211.018042</td>\n",
       "      <td>8.106</td>\n",
       "      <td>False</td>\n",
       "    </tr>\n",
       "    <tr>\n",
       "      <th>8</th>\n",
       "      <td>1</td>\n",
       "      <td>2010-04-02</td>\n",
       "      <td>62.27</td>\n",
       "      <td>2.719</td>\n",
       "      <td>NaN</td>\n",
       "      <td>NaN</td>\n",
       "      <td>NaN</td>\n",
       "      <td>NaN</td>\n",
       "      <td>NaN</td>\n",
       "      <td>210.820450</td>\n",
       "      <td>7.808</td>\n",
       "      <td>False</td>\n",
       "    </tr>\n",
       "    <tr>\n",
       "      <th>9</th>\n",
       "      <td>1</td>\n",
       "      <td>2010-04-09</td>\n",
       "      <td>65.86</td>\n",
       "      <td>2.770</td>\n",
       "      <td>NaN</td>\n",
       "      <td>NaN</td>\n",
       "      <td>NaN</td>\n",
       "      <td>NaN</td>\n",
       "      <td>NaN</td>\n",
       "      <td>210.622857</td>\n",
       "      <td>7.808</td>\n",
       "      <td>False</td>\n",
       "    </tr>\n",
       "  </tbody>\n",
       "</table>\n",
       "</div>"
      ],
      "text/plain": [
       "   Store        Date  Temperature  Fuel_Price  MarkDown1  MarkDown2  \\\n",
       "0      1  2010-02-05        42.31       2.572        NaN        NaN   \n",
       "1      1  2010-02-12        38.51       2.548        NaN        NaN   \n",
       "2      1  2010-02-19        39.93       2.514        NaN        NaN   \n",
       "3      1  2010-02-26        46.63       2.561        NaN        NaN   \n",
       "4      1  2010-03-05        46.50       2.625        NaN        NaN   \n",
       "5      1  2010-03-12        57.79       2.667        NaN        NaN   \n",
       "6      1  2010-03-19        54.58       2.720        NaN        NaN   \n",
       "7      1  2010-03-26        51.45       2.732        NaN        NaN   \n",
       "8      1  2010-04-02        62.27       2.719        NaN        NaN   \n",
       "9      1  2010-04-09        65.86       2.770        NaN        NaN   \n",
       "\n",
       "   MarkDown3  MarkDown4  MarkDown5         CPI  Unemployment  IsHoliday  \n",
       "0        NaN        NaN        NaN  211.096358         8.106      False  \n",
       "1        NaN        NaN        NaN  211.242170         8.106       True  \n",
       "2        NaN        NaN        NaN  211.289143         8.106      False  \n",
       "3        NaN        NaN        NaN  211.319643         8.106      False  \n",
       "4        NaN        NaN        NaN  211.350143         8.106      False  \n",
       "5        NaN        NaN        NaN  211.380643         8.106      False  \n",
       "6        NaN        NaN        NaN  211.215635         8.106      False  \n",
       "7        NaN        NaN        NaN  211.018042         8.106      False  \n",
       "8        NaN        NaN        NaN  210.820450         7.808      False  \n",
       "9        NaN        NaN        NaN  210.622857         7.808      False  "
      ]
     },
     "execution_count": 88,
     "metadata": {},
     "output_type": "execute_result"
    }
   ],
   "source": [
    "df2 = pd.read_csv('./Datasets/features.csv')\n",
    "print(len(df2))\n",
    "df2.head(10)\n",
    "                        "
   ]
  },
  {
   "cell_type": "code",
   "execution_count": 89,
   "metadata": {},
   "outputs": [],
   "source": [
    "#final = pd.merge(df, df2, on =['Store','Date']) # merge the 2 dataframes walmart sales and features\n",
    "# ...if you do it with the code above you will have an extra  colums that are repeated for example\n",
    "# you will have an \n",
    "# IsHoliday column called IsHoliday_X  and\n",
    "# IsHolday_Y becuase Is Holiday came from both datasets\n",
    "# the code below is better since you are combining them on store and date\n"
   ]
  },
  {
   "cell_type": "code",
   "execution_count": 90,
   "metadata": {},
   "outputs": [],
   "source": [
    "final= pd.merge(df[['Store','Date','Dept','Weekly_Sales']],\n",
    "            df2, \n",
    "                on=['Store','Date'])#when merging 2 data frames in order to use the on merge they both have to have columns that are\n",
    "#        'Store' and 'Date' or it wont work then you have to use left on or right on\n"
   ]
  },
  {
   "cell_type": "code",
   "execution_count": 91,
   "metadata": {},
   "outputs": [
    {
     "data": {
      "text/html": [
       "<div>\n",
       "<style scoped>\n",
       "    .dataframe tbody tr th:only-of-type {\n",
       "        vertical-align: middle;\n",
       "    }\n",
       "\n",
       "    .dataframe tbody tr th {\n",
       "        vertical-align: top;\n",
       "    }\n",
       "\n",
       "    .dataframe thead th {\n",
       "        text-align: right;\n",
       "    }\n",
       "</style>\n",
       "<table border=\"1\" class=\"dataframe\">\n",
       "  <thead>\n",
       "    <tr style=\"text-align: right;\">\n",
       "      <th></th>\n",
       "      <th>Store</th>\n",
       "      <th>Date</th>\n",
       "      <th>Dept</th>\n",
       "      <th>Weekly_Sales</th>\n",
       "      <th>Temperature</th>\n",
       "      <th>Fuel_Price</th>\n",
       "      <th>MarkDown1</th>\n",
       "      <th>MarkDown2</th>\n",
       "      <th>MarkDown3</th>\n",
       "      <th>MarkDown4</th>\n",
       "      <th>MarkDown5</th>\n",
       "      <th>CPI</th>\n",
       "      <th>Unemployment</th>\n",
       "      <th>IsHoliday</th>\n",
       "    </tr>\n",
       "  </thead>\n",
       "  <tbody>\n",
       "    <tr>\n",
       "      <th>6587</th>\n",
       "      <td>1</td>\n",
       "      <td>2011-11-11</td>\n",
       "      <td>1</td>\n",
       "      <td>18689.54</td>\n",
       "      <td>59.11</td>\n",
       "      <td>3.297</td>\n",
       "      <td>10382.9</td>\n",
       "      <td>6115.67</td>\n",
       "      <td>215.07</td>\n",
       "      <td>2406.62</td>\n",
       "      <td>6551.42</td>\n",
       "      <td>217.998085</td>\n",
       "      <td>7.866</td>\n",
       "      <td>False</td>\n",
       "    </tr>\n",
       "    <tr>\n",
       "      <th>6588</th>\n",
       "      <td>1</td>\n",
       "      <td>2011-11-11</td>\n",
       "      <td>2</td>\n",
       "      <td>44936.47</td>\n",
       "      <td>59.11</td>\n",
       "      <td>3.297</td>\n",
       "      <td>10382.9</td>\n",
       "      <td>6115.67</td>\n",
       "      <td>215.07</td>\n",
       "      <td>2406.62</td>\n",
       "      <td>6551.42</td>\n",
       "      <td>217.998085</td>\n",
       "      <td>7.866</td>\n",
       "      <td>False</td>\n",
       "    </tr>\n",
       "    <tr>\n",
       "      <th>6589</th>\n",
       "      <td>1</td>\n",
       "      <td>2011-11-11</td>\n",
       "      <td>3</td>\n",
       "      <td>9959.64</td>\n",
       "      <td>59.11</td>\n",
       "      <td>3.297</td>\n",
       "      <td>10382.9</td>\n",
       "      <td>6115.67</td>\n",
       "      <td>215.07</td>\n",
       "      <td>2406.62</td>\n",
       "      <td>6551.42</td>\n",
       "      <td>217.998085</td>\n",
       "      <td>7.866</td>\n",
       "      <td>False</td>\n",
       "    </tr>\n",
       "    <tr>\n",
       "      <th>6590</th>\n",
       "      <td>1</td>\n",
       "      <td>2011-11-11</td>\n",
       "      <td>4</td>\n",
       "      <td>36826.52</td>\n",
       "      <td>59.11</td>\n",
       "      <td>3.297</td>\n",
       "      <td>10382.9</td>\n",
       "      <td>6115.67</td>\n",
       "      <td>215.07</td>\n",
       "      <td>2406.62</td>\n",
       "      <td>6551.42</td>\n",
       "      <td>217.998085</td>\n",
       "      <td>7.866</td>\n",
       "      <td>False</td>\n",
       "    </tr>\n",
       "    <tr>\n",
       "      <th>6591</th>\n",
       "      <td>1</td>\n",
       "      <td>2011-11-11</td>\n",
       "      <td>5</td>\n",
       "      <td>31002.65</td>\n",
       "      <td>59.11</td>\n",
       "      <td>3.297</td>\n",
       "      <td>10382.9</td>\n",
       "      <td>6115.67</td>\n",
       "      <td>215.07</td>\n",
       "      <td>2406.62</td>\n",
       "      <td>6551.42</td>\n",
       "      <td>217.998085</td>\n",
       "      <td>7.866</td>\n",
       "      <td>False</td>\n",
       "    </tr>\n",
       "  </tbody>\n",
       "</table>\n",
       "</div>"
      ],
      "text/plain": [
       "      Store        Date  Dept  Weekly_Sales  Temperature  Fuel_Price  \\\n",
       "6587      1  2011-11-11     1      18689.54        59.11       3.297   \n",
       "6588      1  2011-11-11     2      44936.47        59.11       3.297   \n",
       "6589      1  2011-11-11     3       9959.64        59.11       3.297   \n",
       "6590      1  2011-11-11     4      36826.52        59.11       3.297   \n",
       "6591      1  2011-11-11     5      31002.65        59.11       3.297   \n",
       "\n",
       "      MarkDown1  MarkDown2  MarkDown3  MarkDown4  MarkDown5         CPI  \\\n",
       "6587    10382.9    6115.67     215.07    2406.62    6551.42  217.998085   \n",
       "6588    10382.9    6115.67     215.07    2406.62    6551.42  217.998085   \n",
       "6589    10382.9    6115.67     215.07    2406.62    6551.42  217.998085   \n",
       "6590    10382.9    6115.67     215.07    2406.62    6551.42  217.998085   \n",
       "6591    10382.9    6115.67     215.07    2406.62    6551.42  217.998085   \n",
       "\n",
       "      Unemployment  IsHoliday  \n",
       "6587         7.866      False  \n",
       "6588         7.866      False  \n",
       "6589         7.866      False  \n",
       "6590         7.866      False  \n",
       "6591         7.866      False  "
      ]
     },
     "execution_count": 91,
     "metadata": {},
     "output_type": "execute_result"
    }
   ],
   "source": [
    "final = final.dropna()# This drops the 'nan' that are in collums when we have missing data\n",
    "#            .fillna()        You can also use fillna() to fill in nan values with 0 instead of dropping the nan\n",
    "final.head()"
   ]
  },
  {
   "cell_type": "code",
   "execution_count": 92,
   "metadata": {},
   "outputs": [
    {
     "data": {
      "text/plain": [
       "(97056, 14)"
      ]
     },
     "execution_count": 92,
     "metadata": {},
     "output_type": "execute_result"
    }
   ],
   "source": [
    "final.shape"
   ]
  },
  {
   "cell_type": "markdown",
   "metadata": {},
   "source": [
    "# Exploratory Data Analysis"
   ]
  },
  {
   "cell_type": "code",
   "execution_count": 93,
   "metadata": {},
   "outputs": [],
   "source": [
    "# check 3 different vairables for correlation  markdown1 with mardown4 seems to be heading in the right direction\n"
   ]
  },
  {
   "cell_type": "code",
   "execution_count": 94,
   "metadata": {},
   "outputs": [
    {
     "name": "stdout",
     "output_type": "stream",
     "text": [
      "[[1.         0.82892769]\n",
      " [0.82892769 1.        ]]\n"
     ]
    },
    {
     "data": {
      "text/plain": [
       "<matplotlib.collections.PathCollection at 0x23011c6bba8>"
      ]
     },
     "execution_count": 94,
     "metadata": {},
     "output_type": "execute_result"
    },
    {
     "data": {
      "image/png": "[encoded data removed]",
      "text/plain": [
       "<Figure size 432x288 with 1 Axes>"
      ]
     },
     "metadata": {
      "needs_background": "light"
     },
     "output_type": "display_data"
    }
   ],
   "source": [
    "x , y = final.MarkDown1, final.MarkDown4\n",
    "print(np.corrcoef(x,y))\n",
    "plt.scatter(x,y)"
   ]
  },
  {
   "cell_type": "code",
   "execution_count": 95,
   "metadata": {},
   "outputs": [
    {
     "name": "stdout",
     "output_type": "stream",
     "text": [
      "[[ 1.         -0.01637095]\n",
      " [-0.01637095  1.        ]]\n"
     ]
    },
    {
     "data": {
      "text/plain": [
       "<matplotlib.collections.PathCollection at 0x23018b0f9b0>"
      ]
     },
     "execution_count": 95,
     "metadata": {},
     "output_type": "execute_result"
    },
    {
     "data": {
      "image/png": "[encoded data removed]",
      "text/plain": [
       "<Figure size 432x288 with 1 Axes>"
      ]
     },
     "metadata": {
      "needs_background": "light"
     },
     "output_type": "display_data"
    }
   ],
   "source": [
    "x , y = final.Weekly_Sales, final.CPI\n",
    "print(np.corrcoef(x,y))\n",
    "plt.scatter(x,y)\n",
    "                        "
   ]
  },
  {
   "cell_type": "code",
   "execution_count": 96,
   "metadata": {},
   "outputs": [
    {
     "name": "stdout",
     "output_type": "stream",
     "text": [
      "[[ 1.         -0.00161513]\n",
      " [-0.00161513  1.        ]]\n"
     ]
    },
    {
     "data": {
      "text/plain": [
       "<matplotlib.collections.PathCollection at 0x23010617b38>"
      ]
     },
     "execution_count": 96,
     "metadata": {},
     "output_type": "execute_result"
    },
    {
     "data": {
      "image/png": "[encoded data removed]",
      "text/plain": [
       "<Figure size 432x288 with 1 Axes>"
      ]
     },
     "metadata": {
      "needs_background": "light"
     },
     "output_type": "display_data"
    }
   ],
   "source": [
    "x , y = final.MarkDown2, final.MarkDown1\n",
    "print(np.corrcoef(x,y))\n",
    "plt.scatter(x,y)"
   ]
  },
  {
   "cell_type": "markdown",
   "metadata": {},
   "source": [
    "# Initial Model"
   ]
  },
  {
   "cell_type": "code",
   "execution_count": 97,
   "metadata": {},
   "outputs": [],
   "source": [
    "#import sklearn to make linear regression models\n"
   ]
  },
  {
   "cell_type": "code",
   "execution_count": 98,
   "metadata": {},
   "outputs": [
    {
     "name": "stdout",
     "output_type": "stream",
     "text": [
      "R^2 model score: 0.03473682576876025 \n",
      "\n"
     ]
    }
   ],
   "source": [
    "#1) Import packages\n",
    "from sklearn.linear_model import LinearRegression\n",
    "\n",
    "#2) Define X and y\n",
    "X = final[['Store', 'Temperature', 'Fuel_Price', 'MarkDown1', 'MarkDown2', 'MarkDown3',\n",
    "         'MarkDown5', 'CPI', 'Unemployment', 'Dept']] #Only numeric features work we took out markdown 4 \n",
    "#                                                      cause it was a perfect 1.0 pr highly correlated\n",
    "\n",
    "y = final['Weekly_Sales']\n",
    "\n",
    "#3) Initialize a regression object\n",
    "linreg = LinearRegression()\n",
    "\n",
    "# 4) Fit the model\n",
    "linreg.fit(X, y)\n",
    "\n",
    "# 5) Use the model to predict outputs\n",
    "final['Estimated_Weekly_Sales'] = linreg.predict(X)\n",
    "\n",
    "# 6) Measure performance\n",
    "# Here we print the model's R^2 to measure overall performance; the correlation between our model and the data\n",
    "print('R^2 model score:', linreg.score(X,y), '\\n')"
   ]
  },
  {
   "cell_type": "code",
   "execution_count": 99,
   "metadata": {},
   "outputs": [],
   "source": [
    "#need to make sure the data makes sense like store #, tempurature, IsHoliday even though its a number it doest fit into model \n",
    "#need to use dummy variables to chage numbers and catagories into numbers that make sense "
   ]
  },
  {
   "cell_type": "markdown",
   "metadata": {},
   "source": [
    "# Dummy Variables, Evaluation & Feature Engineering "
   ]
  },
  {
   "cell_type": "code",
   "execution_count": 100,
   "metadata": {},
   "outputs": [],
   "source": [
    "#final.Store.tail()"
   ]
  },
  {
   "cell_type": "code",
   "execution_count": 101,
   "metadata": {},
   "outputs": [],
   "source": [
    "#pd.get_dummies(final.Store).head()# makes a numeric value \"make sense\" since it changes the store numbers\n",
    "# to dummy numeric numbers so it can run through an analysis correctly"
   ]
  },
  {
   "cell_type": "code",
   "execution_count": 102,
   "metadata": {},
   "outputs": [],
   "source": [
    "#final.columns # shows you all the columns in your combined dataframe called final"
   ]
  },
  {
   "cell_type": "code",
   "execution_count": 103,
   "metadata": {},
   "outputs": [],
   "source": [
    "for col in ['Store', 'Dept']:# makes a bunch of colums into numeric \"dummy\" values at the same time\n",
    "    final[col] = final[col].astype(str) #Make nonumeric\n"
   ]
  },
  {
   "cell_type": "code",
   "execution_count": 104,
   "metadata": {},
   "outputs": [
    {
     "data": {
      "text/html": [
       "<div>\n",
       "<style scoped>\n",
       "    .dataframe tbody tr th:only-of-type {\n",
       "        vertical-align: middle;\n",
       "    }\n",
       "\n",
       "    .dataframe tbody tr th {\n",
       "        vertical-align: top;\n",
       "    }\n",
       "\n",
       "    .dataframe thead th {\n",
       "        text-align: right;\n",
       "    }\n",
       "</style>\n",
       "<table border=\"1\" class=\"dataframe\">\n",
       "  <thead>\n",
       "    <tr style=\"text-align: right;\">\n",
       "      <th></th>\n",
       "      <th>Temperature</th>\n",
       "      <th>Fuel_Price</th>\n",
       "      <th>MarkDown1</th>\n",
       "      <th>MarkDown2</th>\n",
       "      <th>MarkDown3</th>\n",
       "      <th>MarkDown5</th>\n",
       "      <th>CPI</th>\n",
       "      <th>Unemployment</th>\n",
       "      <th>IsHoliday</th>\n",
       "      <th>Store_1</th>\n",
       "      <th>...</th>\n",
       "      <th>Dept_90</th>\n",
       "      <th>Dept_91</th>\n",
       "      <th>Dept_92</th>\n",
       "      <th>Dept_93</th>\n",
       "      <th>Dept_94</th>\n",
       "      <th>Dept_95</th>\n",
       "      <th>Dept_96</th>\n",
       "      <th>Dept_97</th>\n",
       "      <th>Dept_98</th>\n",
       "      <th>Dept_99</th>\n",
       "    </tr>\n",
       "  </thead>\n",
       "  <tbody>\n",
       "    <tr>\n",
       "      <th>6587</th>\n",
       "      <td>59.11</td>\n",
       "      <td>3.297</td>\n",
       "      <td>10382.9</td>\n",
       "      <td>6115.67</td>\n",
       "      <td>215.07</td>\n",
       "      <td>6551.42</td>\n",
       "      <td>217.998085</td>\n",
       "      <td>7.866</td>\n",
       "      <td>False</td>\n",
       "      <td>1</td>\n",
       "      <td>...</td>\n",
       "      <td>0</td>\n",
       "      <td>0</td>\n",
       "      <td>0</td>\n",
       "      <td>0</td>\n",
       "      <td>0</td>\n",
       "      <td>0</td>\n",
       "      <td>0</td>\n",
       "      <td>0</td>\n",
       "      <td>0</td>\n",
       "      <td>0</td>\n",
       "    </tr>\n",
       "    <tr>\n",
       "      <th>6588</th>\n",
       "      <td>59.11</td>\n",
       "      <td>3.297</td>\n",
       "      <td>10382.9</td>\n",
       "      <td>6115.67</td>\n",
       "      <td>215.07</td>\n",
       "      <td>6551.42</td>\n",
       "      <td>217.998085</td>\n",
       "      <td>7.866</td>\n",
       "      <td>False</td>\n",
       "      <td>1</td>\n",
       "      <td>...</td>\n",
       "      <td>0</td>\n",
       "      <td>0</td>\n",
       "      <td>0</td>\n",
       "      <td>0</td>\n",
       "      <td>0</td>\n",
       "      <td>0</td>\n",
       "      <td>0</td>\n",
       "      <td>0</td>\n",
       "      <td>0</td>\n",
       "      <td>0</td>\n",
       "    </tr>\n",
       "    <tr>\n",
       "      <th>6589</th>\n",
       "      <td>59.11</td>\n",
       "      <td>3.297</td>\n",
       "      <td>10382.9</td>\n",
       "      <td>6115.67</td>\n",
       "      <td>215.07</td>\n",
       "      <td>6551.42</td>\n",
       "      <td>217.998085</td>\n",
       "      <td>7.866</td>\n",
       "      <td>False</td>\n",
       "      <td>1</td>\n",
       "      <td>...</td>\n",
       "      <td>0</td>\n",
       "      <td>0</td>\n",
       "      <td>0</td>\n",
       "      <td>0</td>\n",
       "      <td>0</td>\n",
       "      <td>0</td>\n",
       "      <td>0</td>\n",
       "      <td>0</td>\n",
       "      <td>0</td>\n",
       "      <td>0</td>\n",
       "    </tr>\n",
       "    <tr>\n",
       "      <th>6590</th>\n",
       "      <td>59.11</td>\n",
       "      <td>3.297</td>\n",
       "      <td>10382.9</td>\n",
       "      <td>6115.67</td>\n",
       "      <td>215.07</td>\n",
       "      <td>6551.42</td>\n",
       "      <td>217.998085</td>\n",
       "      <td>7.866</td>\n",
       "      <td>False</td>\n",
       "      <td>1</td>\n",
       "      <td>...</td>\n",
       "      <td>0</td>\n",
       "      <td>0</td>\n",
       "      <td>0</td>\n",
       "      <td>0</td>\n",
       "      <td>0</td>\n",
       "      <td>0</td>\n",
       "      <td>0</td>\n",
       "      <td>0</td>\n",
       "      <td>0</td>\n",
       "      <td>0</td>\n",
       "    </tr>\n",
       "    <tr>\n",
       "      <th>6591</th>\n",
       "      <td>59.11</td>\n",
       "      <td>3.297</td>\n",
       "      <td>10382.9</td>\n",
       "      <td>6115.67</td>\n",
       "      <td>215.07</td>\n",
       "      <td>6551.42</td>\n",
       "      <td>217.998085</td>\n",
       "      <td>7.866</td>\n",
       "      <td>False</td>\n",
       "      <td>1</td>\n",
       "      <td>...</td>\n",
       "      <td>0</td>\n",
       "      <td>0</td>\n",
       "      <td>0</td>\n",
       "      <td>0</td>\n",
       "      <td>0</td>\n",
       "      <td>0</td>\n",
       "      <td>0</td>\n",
       "      <td>0</td>\n",
       "      <td>0</td>\n",
       "      <td>0</td>\n",
       "    </tr>\n",
       "  </tbody>\n",
       "</table>\n",
       "<p>5 rows × 135 columns</p>\n",
       "</div>"
      ],
      "text/plain": [
       "      Temperature  Fuel_Price  MarkDown1  MarkDown2  MarkDown3  MarkDown5  \\\n",
       "6587        59.11       3.297    10382.9    6115.67     215.07    6551.42   \n",
       "6588        59.11       3.297    10382.9    6115.67     215.07    6551.42   \n",
       "6589        59.11       3.297    10382.9    6115.67     215.07    6551.42   \n",
       "6590        59.11       3.297    10382.9    6115.67     215.07    6551.42   \n",
       "6591        59.11       3.297    10382.9    6115.67     215.07    6551.42   \n",
       "\n",
       "             CPI  Unemployment  IsHoliday  Store_1   ...     Dept_90  Dept_91  \\\n",
       "6587  217.998085         7.866      False        1   ...           0        0   \n",
       "6588  217.998085         7.866      False        1   ...           0        0   \n",
       "6589  217.998085         7.866      False        1   ...           0        0   \n",
       "6590  217.998085         7.866      False        1   ...           0        0   \n",
       "6591  217.998085         7.866      False        1   ...           0        0   \n",
       "\n",
       "      Dept_92  Dept_93  Dept_94  Dept_95  Dept_96  Dept_97  Dept_98  Dept_99  \n",
       "6587        0        0        0        0        0        0        0        0  \n",
       "6588        0        0        0        0        0        0        0        0  \n",
       "6589        0        0        0        0        0        0        0        0  \n",
       "6590        0        0        0        0        0        0        0        0  \n",
       "6591        0        0        0        0        0        0        0        0  \n",
       "\n",
       "[5 rows x 135 columns]"
      ]
     },
     "execution_count": 104,
     "metadata": {},
     "output_type": "execute_result"
    }
   ],
   "source": [
    "NewX = pd.get_dummies(final[['Store', 'Temperature', 'Fuel_Price', 'MarkDown1', 'MarkDown2', 'MarkDown3',\n",
    "        'MarkDown5', 'CPI', 'Unemployment', 'Dept', 'IsHoliday']])\n",
    "NewX.head()"
   ]
  },
  {
   "cell_type": "code",
   "execution_count": 105,
   "metadata": {},
   "outputs": [
    {
     "data": {
      "text/plain": [
       "0    87064\n",
       "1     9992\n",
       "Name: IsHoliday, dtype: int64"
      ]
     },
     "execution_count": 105,
     "metadata": {},
     "output_type": "execute_result"
    }
   ],
   "source": [
    "final.IsHoliday = final.IsHoliday.map({True:1, False:0})# convert category into numeric so IsHoliday column can be use in analysis\n",
    "final.IsHoliday.value_counts()"
   ]
  },
  {
   "cell_type": "code",
   "execution_count": null,
   "metadata": {},
   "outputs": [],
   "source": []
  },
  {
   "cell_type": "code",
   "execution_count": 106,
   "metadata": {},
   "outputs": [
    {
     "name": "stdout",
     "output_type": "stream",
     "text": [
      "R^2 model score: 0.6814789782658253 \n",
      "\n",
      "Model feature coefficients:\n",
      "Temperature Coefficient weight: -4.3264\n",
      "Fuel_Price Coefficient weight: -2795.6944\n",
      "MarkDown1 Coefficient weight: -0.0237\n",
      "MarkDown2 Coefficient weight: -0.0789\n",
      "MarkDown3 Coefficient weight: 0.0745\n",
      "MarkDown5 Coefficient weight: -0.0122\n",
      "CPI Coefficient weight: -293.0222\n",
      "Unemployment Coefficient weight: 1127.6705\n",
      "IsHoliday Coefficient weight: 710.5935\n",
      "Store_1 Coefficient weight: 21556.2691\n",
      "Store_10 Coefficient weight: 1147.956\n",
      "Store_11 Coefficient weight: 20112.5936\n",
      "Store_12 Coefficient weight: -16195.5983\n",
      "Store_13 Coefficient weight: 3192.806\n",
      "Store_14 Coefficient weight: 16332.3281\n",
      "Store_15 Coefficient weight: -16958.717\n",
      "Store_16 Coefficient weight: 312.9134\n",
      "Store_17 Coefficient weight: -13272.0332\n",
      "Store_18 Coefficient weight: -10471.4477\n",
      "Store_19 Coefficient weight: -4994.6222\n",
      "Store_2 Coefficient weight: 26939.4036\n",
      "Store_20 Coefficient weight: 28430.2893\n",
      "Store_21 Coefficient weight: 9762.7127\n",
      "Store_22 Coefficient weight: -9299.735\n",
      "Store_23 Coefficient weight: -900.1097\n",
      "Store_24 Coefficient weight: -6920.9958\n",
      "Store_25 Coefficient weight: 7736.0716\n",
      "Store_26 Coefficient weight: -10982.4843\n",
      "Store_27 Coefficient weight: 345.5661\n",
      "Store_28 Coefficient weight: -12784.0369\n",
      "Store_29 Coefficient weight: -20046.6285\n",
      "Store_3 Coefficient weight: 5926.0537\n",
      "Store_30 Coefficient weight: 2143.5492\n",
      "Store_31 Coefficient weight: 19368.6419\n",
      "Store_32 Coefficient weight: 7984.8556\n",
      "Store_33 Coefficient weight: -28382.452\n",
      "Store_34 Coefficient weight: -17035.281\n",
      "Store_35 Coefficient weight: -13649.461\n",
      "Store_36 Coefficient weight: -1415.328\n",
      "Store_37 Coefficient weight: 1861.8592\n",
      "Store_38 Coefficient weight: -28002.4098\n",
      "Store_39 Coefficient weight: 21338.4103\n",
      "Store_4 Coefficient weight: 6758.6707\n",
      "Store_40 Coefficient weight: -7825.5243\n",
      "Store_41 Coefficient weight: 11782.5147\n",
      "Store_42 Coefficient weight: -21782.3337\n",
      "Store_43 Coefficient weight: 965.9028\n",
      "Store_44 Coefficient weight: -25533.5588\n",
      "Store_45 Coefficient weight: 413.133\n",
      "Store_5 Coefficient weight: 4513.3093\n",
      "Store_6 Coefficient weight: 23389.3378\n",
      "Store_7 Coefficient weight: -456.9801\n",
      "Store_8 Coefficient weight: 14873.0136\n",
      "Store_9 Coefficient weight: 9721.5761\n",
      "Dept_1 Coefficient weight: 6475.6402\n",
      "Dept_10 Coefficient weight: 7166.5249\n",
      "Dept_11 Coefficient weight: 1932.7746\n",
      "Dept_12 Coefficient weight: -10858.8656\n",
      "Dept_13 Coefficient weight: 19296.7813\n",
      "Dept_14 Coefficient weight: 3415.007\n",
      "Dept_16 Coefficient weight: -775.1037\n",
      "Dept_17 Coefficient weight: -3279.4115\n",
      "Dept_18 Coefficient weight: -5918.7384\n",
      "Dept_19 Coefficient weight: -14949.921\n",
      "Dept_2 Coefficient weight: 36280.2179\n",
      "Dept_20 Coefficient weight: -9435.348\n",
      "Dept_21 Coefficient weight: -9876.9092\n",
      "Dept_22 Coefficient weight: -3878.0699\n",
      "Dept_23 Coefficient weight: 11697.0621\n",
      "Dept_24 Coefficient weight: -9088.0959\n",
      "Dept_25 Coefficient weight: -5031.5813\n",
      "Dept_26 Coefficient weight: -7645.4812\n",
      "Dept_27 Coefficient weight: -13951.2331\n",
      "Dept_28 Coefficient weight: -15072.5414\n",
      "Dept_29 Coefficient weight: -9837.6141\n",
      "Dept_3 Coefficient weight: -351.7132\n",
      "Dept_30 Coefficient weight: -12010.1102\n",
      "Dept_31 Coefficient weight: -13085.0759\n",
      "Dept_32 Coefficient weight: -7741.774\n",
      "Dept_33 Coefficient weight: -9037.242\n",
      "Dept_34 Coefficient weight: -94.2582\n",
      "Dept_35 Coefficient weight: -13003.5136\n",
      "Dept_36 Coefficient weight: -13930.396\n",
      "Dept_37 Coefficient weight: -16534.6699\n",
      "Dept_38 Coefficient weight: 49702.2792\n",
      "Dept_39 Coefficient weight: -19566.0436\n",
      "Dept_4 Coefficient weight: 14683.5756\n",
      "Dept_40 Coefficient weight: 37283.7275\n",
      "Dept_41 Coefficient weight: -13770.6605\n",
      "Dept_42 Coefficient weight: -9255.0892\n",
      "Dept_43 Coefficient weight: -10439.9236\n",
      "Dept_44 Coefficient weight: -10758.4159\n",
      "Dept_45 Coefficient weight: -16606.2404\n",
      "Dept_46 Coefficient weight: 8745.4548\n",
      "Dept_47 Coefficient weight: -17014.908\n",
      "Dept_48 Coefficient weight: -17069.0252\n",
      "Dept_49 Coefficient weight: -8421.1401\n",
      "Dept_5 Coefficient weight: 10924.6686\n",
      "Dept_50 Coefficient weight: -17108.0\n",
      "Dept_51 Coefficient weight: -18136.7236\n",
      "Dept_52 Coefficient weight: -13456.0121\n",
      "Dept_54 Coefficient weight: -16774.103\n",
      "Dept_55 Coefficient weight: -3918.0469\n",
      "Dept_56 Coefficient weight: -12433.9513\n",
      "Dept_58 Coefficient weight: -13292.1909\n",
      "Dept_59 Coefficient weight: -15480.5147\n",
      "Dept_6 Coefficient weight: -11037.0484\n",
      "Dept_60 Coefficient weight: -15369.2303\n",
      "Dept_65 Coefficient weight: 31094.5457\n",
      "Dept_67 Coefficient weight: -6721.6045\n",
      "Dept_7 Coefficient weight: 16994.3883\n",
      "Dept_71 Coefficient weight: -9857.8196\n",
      "Dept_72 Coefficient weight: 45450.3851\n",
      "Dept_74 Coefficient weight: 1281.5251\n",
      "Dept_77 Coefficient weight: -18879.1112\n",
      "Dept_78 Coefficient weight: -17709.232\n",
      "Dept_79 Coefficient weight: 9517.9258\n",
      "Dept_8 Coefficient weight: 19863.8941\n",
      "Dept_80 Coefficient weight: -3388.2958\n",
      "Dept_81 Coefficient weight: 1491.6814\n",
      "Dept_82 Coefficient weight: 4465.9752\n",
      "Dept_83 Coefficient weight: -12763.4493\n",
      "Dept_85 Coefficient weight: -13212.8445\n",
      "Dept_87 Coefficient weight: 2843.023\n",
      "Dept_9 Coefficient weight: 8732.0079\n",
      "Dept_90 Coefficient weight: 36060.5999\n",
      "Dept_91 Coefficient weight: 22752.1766\n",
      "Dept_92 Coefficient weight: 73954.026\n",
      "Dept_93 Coefficient weight: 13849.4863\n",
      "Dept_94 Coefficient weight: 18058.3627\n",
      "Dept_95 Coefficient weight: 62517.6892\n",
      "Dept_96 Coefficient weight: -424.3339\n",
      "Dept_97 Coefficient weight: -68.9744\n",
      "Dept_98 Coefficient weight: -8953.2378\n",
      "Dept_99 Coefficient weight: -19257.5683\n"
     ]
    }
   ],
   "source": [
    "#1) Import packages\n",
    "from sklearn.linear_model import LinearRegression\n",
    "\n",
    "#2) Define X and y\n",
    "#Removed all markdown\n",
    "X = NewX\n",
    "y = final['Weekly_Sales']\n",
    "\n",
    "#3) Initialize a regression object\n",
    "linreg = LinearRegression()\n",
    "\n",
    "# 4) Fit the model\n",
    "linreg.fit(X, y)\n",
    "\n",
    "# 5) Use the model to predict outputs\n",
    "final['Estimated_Weekly_Sales'] = linreg.predict(X)\n",
    "\n",
    "# 6) Measure performance\n",
    "# Here we print the model's R^2 to measure overall performance; the correlation between our model and the data\n",
    "print('R^2 model score:', linreg.score(X,y), '\\n')\n",
    "\n",
    "#Save results\n",
    "new_weight_dict = dict(zip(X.columns, linreg.coef_))\n",
    "\n",
    "#Print the coefficients for the model's formula\n",
    "print('Model feature coefficients:')\n",
    "for feat, coeff in list(zip(X.columns, linreg.coef_)):\n",
    "    print(feat, 'Coefficient weight: {}'.format(round(coeff, 4)))"
   ]
  },
  {
   "cell_type": "code",
   "execution_count": 107,
   "metadata": {},
   "outputs": [],
   "source": [
    "from sklearn.model_selection import train_test_split\n",
    "from sklearn.metrics import mean_squared_error\n",
    "import numpy as np"
   ]
  },
  {
   "cell_type": "code",
   "execution_count": 108,
   "metadata": {},
   "outputs": [],
   "source": [
    "X_train, X_test,y_train,y_test = train_test_split(X,y, random_state=0)"
   ]
  },
  {
   "cell_type": "code",
   "execution_count": 109,
   "metadata": {},
   "outputs": [
    {
     "data": {
      "text/plain": [
       "((97056, 135), (97056,))"
      ]
     },
     "execution_count": 109,
     "metadata": {},
     "output_type": "execute_result"
    }
   ],
   "source": [
    "X.shape, y.shape# shows the number of rows used in y shape  (columns should usaully be less then rows)"
   ]
  },
  {
   "cell_type": "code",
   "execution_count": 110,
   "metadata": {},
   "outputs": [
    {
     "data": {
      "text/plain": [
       "((72792, 135), (24264, 135))"
      ]
     },
     "execution_count": 110,
     "metadata": {},
     "output_type": "execute_result"
    }
   ],
   "source": [
    "X_train.shape, X_test.shape # shows the number of columns matched from above "
   ]
  },
  {
   "cell_type": "code",
   "execution_count": 111,
   "metadata": {},
   "outputs": [
    {
     "data": {
      "text/plain": [
       "((72792,), (24264,))"
      ]
     },
     "execution_count": 111,
     "metadata": {},
     "output_type": "execute_result"
    }
   ],
   "source": [
    "y_train.shape, y_test.shape # shows the train and test match above train and test rows"
   ]
  },
  {
   "cell_type": "code",
   "execution_count": 126,
   "metadata": {},
   "outputs": [
    {
     "name": "stdout",
     "output_type": "stream",
     "text": [
      "Train Mean Squared Error: 13900.198421272891\n",
      "Test Mean Squared Error 14143.526469311657\n"
     ]
    }
   ],
   "source": [
    "#choosing themodel\n",
    "mod=LinearRegression()\n",
    "mod.fit(X_train, y_train)\n",
    "\n",
    "#Predicting\n",
    "y_hat_train=mod.predict(X_train)\n",
    "y_hat_test=mod.predict(X_test)\n",
    "\n",
    "#Calculating (and choose) Error\n",
    "train_mse= np.sqrt(mean_squared_error(y_train,y_hat_train))\n",
    "test_mse= np.sqrt(mean_squared_error(y_test,y_hat_test))\n",
    "\n",
    "print('Train Mean Squared Error:', train_mse)\n",
    "print('Test Mean Squared Error', test_mse)\n"
   ]
  },
  {
   "cell_type": "code",
   "execution_count": 127,
   "metadata": {},
   "outputs": [],
   "source": [
    "# the model is good if the test error and train error # are close to each other \n",
    "# and train error is low"
   ]
  },
  {
   "cell_type": "markdown",
   "metadata": {},
   "source": [
    "# Further Evaluation & Feature Engineering "
   ]
  },
  {
   "cell_type": "markdown",
   "metadata": {},
   "source": [
    "# Kfolds"
   ]
  },
  {
   "cell_type": "code",
   "execution_count": 128,
   "metadata": {},
   "outputs": [],
   "source": [
    "from sklearn.model_selection import KFold"
   ]
  },
  {
   "cell_type": "code",
   "execution_count": 129,
   "metadata": {},
   "outputs": [],
   "source": [
    "kf = KFold(n_splits=10, shuffle=True)"
   ]
  },
  {
   "cell_type": "code",
   "execution_count": 130,
   "metadata": {},
   "outputs": [
    {
     "name": "stdout",
     "output_type": "stream",
     "text": [
      "train index: [    0     1     2 ... 97053 97054 97055] 87350\n",
      "test index: [   16    17    30 ... 96992 97033 97039] 9706\n",
      "\n",
      "train index: [    0     1     2 ... 97053 97054 97055] 87350\n",
      "test index: [    5    12    42 ... 97028 97040 97047] 9706\n",
      "\n",
      "train index: [    0     1     2 ... 97053 97054 97055] 87350\n",
      "test index: [   21    24    35 ... 97015 97023 97025] 9706\n",
      "\n",
      "train index: [    0     2     3 ... 97053 97054 97055] 87350\n",
      "test index: [    1    26    31 ... 97034 97043 97052] 9706\n",
      "\n",
      "train index: [    0     1     2 ... 97052 97054 97055] 87350\n",
      "test index: [   15    18    25 ... 97037 97042 97053] 9706\n",
      "\n",
      "train index: [    1     2     3 ... 97053 97054 97055] 87350\n",
      "test index: [    0     9    13 ... 97020 97029 97035] 9706\n",
      "\n",
      "train index: [    0     1     2 ... 97052 97053 97054] 87351\n",
      "test index: [   27    29    40 ... 96998 97032 97055] 9705\n",
      "\n",
      "train index: [    0     1     2 ... 97053 97054 97055] 87351\n",
      "test index: [    4    23    43 ... 97031 97045 97049] 9705\n",
      "\n",
      "train index: [    0     1     3 ... 97052 97053 97055] 87351\n",
      "test index: [    2     6     7 ... 97046 97050 97054] 9705\n",
      "\n",
      "train index: [    0     1     2 ... 97053 97054 97055] 87351\n",
      "test index: [    3    10    65 ... 97044 97048 97051] 9705\n",
      "\n"
     ]
    }
   ],
   "source": [
    "for train_index, test_index in kf.split(final):\n",
    "    print('train index:', train_index, len(train_index))\n",
    "    print('test index:', test_index, len(test_index))\n",
    "    print()"
   ]
  },
  {
   "cell_type": "code",
   "execution_count": 124,
   "metadata": {},
   "outputs": [],
   "source": [
    "#\n",
    "#X_feat = final['Store', 'Temperature', 'Fuel_Price', 'MarkDown1', 'MarkDown2', 'MarkDown3',\n",
    "#                'MarkDown5', 'CPI', 'Unemployment', 'Dept']\n",
    "#y_feat = final['Weekly_Sales']\n"
   ]
  },
  {
   "cell_type": "code",
   "execution_count": 139,
   "metadata": {},
   "outputs": [],
   "source": [
    "#rmse_df = pd.DataFrame(columns=['fold', 'train', 'test'])\n",
    "\n",
    "#for fold, (train_index, test_index) in enumerate(kf.split(df)):\n",
    "#    X_tr = df.loc[train_index, X]\n",
    "#    y_tr = df.loc[train_index, y]\n",
    "#    X_te = df.loc[test_index, X]\n",
    "#    y_te = df.loc[test_index, y]\n",
    "#     Similar: X_tr, y_tr, X_te, y_te = train_test_split(......)\n",
    "    \n",
    "#     print(X_tr.shape, y_tr.shape)\n",
    "#     print(X_te.shape, y_te.shape)\n",
    "#     print()\n",
    "    \n",
    "\n",
    "#    mod = LinearRegression()\n",
    "#    mod.fit(X_tr, y_tr)\n",
    "    \n",
    "#    rmse_tr = np.sqrt(mean_squared_error(y_tr, mod.predict(X_tr)))\n",
    "#    rmse_te = np.sqrt(mean_squared_error(y_te, mod.predict(X_te)))\n",
    "    \n",
    "#    tmp_df = pd.DataFrame({'fold': [fold], 'train': [rmse_tr], 'test': [rmse_te]})\n",
    "#    rmse_df = pd.concat([rmse_df, tmp_df], ignore_index=True)"
   ]
  },
  {
   "cell_type": "code",
   "execution_count": 137,
   "metadata": {},
   "outputs": [],
   "source": [
    "#plt_df = (rmse_df.melt(id_vars=['fold'], var_name='data', value_name='rmse')\n",
    "#          .assign(mean = lambda d: d.groupby('data')['rmse'].transform(lambda x: x.mean()))\n",
    "#        )\n",
    "#(ggplot(plt_df, aes(x='fold', y='rmse', fill='data'))\n",
    "# + geom_col(position='dodge')\n",
    "# + geom_hline(aes(yintercept='mean', color='data'), linetype='--', size=2)\n",
    "# + theme_minimal()\n",
    "#)"
   ]
  },
  {
   "cell_type": "markdown",
   "metadata": {},
   "source": [
    "# Normilization"
   ]
  },
  {
   "cell_type": "code",
   "execution_count": 149,
   "metadata": {},
   "outputs": [],
   "source": [
    "import pandas as pd\n",
    "import warnings\n",
    "warnings.filterwarnings('ignore')\n",
    "import numpy as np\n",
    "from sklearn.model_selection import train_test_split\n",
    "from sklearn.linear_model import LinearRegression\n",
    "from sklearn.metrics import mean_squared_error, mean_squared_log_error\n"
   ]
  },
  {
   "cell_type": "code",
   "execution_count": 147,
   "metadata": {},
   "outputs": [
    {
     "ename": "SyntaxError",
     "evalue": "invalid syntax (<ipython-input-147-dcd31f96150e>, line 2)",
     "output_type": "error",
     "traceback": [
      "\u001b[1;36m  File \u001b[1;32m\"<ipython-input-147-dcd31f96150e>\"\u001b[1;36m, line \u001b[1;32m2\u001b[0m\n\u001b[1;33m    X = df[features]\u001b[0m\n\u001b[1;37m    ^\u001b[0m\n\u001b[1;31mSyntaxError\u001b[0m\u001b[1;31m:\u001b[0m invalid syntax\n"
     ]
    }
   ],
   "source": [
    "features = [col for col in final.columns if final[col].dtype in [np.float64, np.int64] and col!=['Weekly_Sales']\n",
    "X = df[features]\n",
    "#Impute null values\n",
    "for col in X:\n",
    "    avg = X[col].mean()\n",
    "    X[col] = X[col].fillna(value=avg)\n",
    "y = final.Weekly_Sales\n",
    "\n",
    "X_train, X_test, y_train, y_test = train_test_split(X,y)\n",
    "ols = LinearRegression(normalize=True)\n",
    "ols.fit(X_train, y_train)\n",
    "print('Training r^2:', ols.score(X_train, y_train))\n",
    "print('Testing r^2:', ols.score(X_test, y_test))\n",
    "print('Training MSE:', mean_squared_error(y_train, ols.predict(X_train)))\n",
    "print('Testing MSE:', mean_squared_error(y_test, ols.predict(X_test)))"
   ]
  },
  {
   "cell_type": "markdown",
   "metadata": {},
   "source": [
    "# lasso Ridge\n"
   ]
  },
  {
   "cell_type": "code",
   "execution_count": 150,
   "metadata": {},
   "outputs": [],
   "source": [
    "import pandas as pd\n",
    "import warnings\n",
    "warnings.filterwarnings('ignore')"
   ]
  },
  {
   "cell_type": "code",
   "execution_count": 151,
   "metadata": {},
   "outputs": [],
   "source": [
    "from sklearn.linear_model import Lasso, Ridge, LassoCV, RidgeCV"
   ]
  },
  {
   "cell_type": "code",
   "execution_count": null,
   "metadata": {},
   "outputs": [],
   "source": []
  }
 ],
 "metadata": {
  "kernelspec": {
   "display_name": "Python 3",
   "language": "python",
   "name": "python3"
  },
  "language_info": {
   "codemirror_mode": {
    "name": "ipython",
    "version": 3
   },
   "file_extension": ".py",
   "mimetype": "text/x-python",
   "name": "python",
   "nbconvert_exporter": "python",
   "pygments_lexer": "ipython3",
   "version": "3.7.0"
  }
 },
 "nbformat": 4,
 "nbformat_minor": 2
}
